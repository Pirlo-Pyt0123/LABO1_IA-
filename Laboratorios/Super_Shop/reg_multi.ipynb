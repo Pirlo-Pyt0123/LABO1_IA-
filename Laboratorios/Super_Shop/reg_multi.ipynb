{
 "cells": [
  {
   "cell_type": "markdown",
   "metadata": {},
   "source": [
    "# LAB - 01 ||  SIS- 420 - REGRESIÓN LINEAL MULTIPLE\n",
    "---\n",
    "## Integrantes: \n",
    "* Cervantes Torres Atzel Alan - CICO\n",
    "* Leaños Ortiz Adam Brayan - CICO\n",
    "* Rodas Palacios Max Jherson - CICO\n",
    "* Sánchez Lima Diego Franco - CICO\n",
    "* Vela Gutiérrez Elmer Vela - CICO"
   ]
  },
  {
   "cell_type": "code",
   "execution_count": 126,
   "metadata": {},
   "outputs": [],
   "source": [
    "#IMPORTAMOS LAS LIBRERIAS NECESARIAS\n",
    "import pandas as pd\n",
    "import numpy as np\n",
    "from matplotlib import pyplot"
   ]
  },
  {
   "cell_type": "markdown",
   "metadata": {},
   "source": [
    "# CARGANDO LOS DATOS\n",
    "\n",
    "En esta sección, se carga el conjunto de datos desde un archivo CSV.\n"
   ]
  },
  {
   "cell_type": "code",
   "execution_count": 127,
   "metadata": {},
   "outputs": [
    {
     "name": "stdout",
     "output_type": "stream",
     "text": [
      "0       -468.32\n",
      "1       1118.40\n",
      "2        394.62\n",
      "3       2629.80\n",
      "4      -1584.38\n",
      "         ...   \n",
      "4995     125.20\n",
      "4996   -2362.44\n",
      "4997    -647.00\n",
      "4998     970.50\n",
      "4999    1735.80\n",
      "Name: Profit, Length: 5000, dtype: float64\n"
     ]
    }
   ],
   "source": [
    "data = pd.read_csv('J:/Lab01_SIS_420/Super_Shop/super_shop_dataset.csv')\n",
    "# print(data.head())\n",
    "print(data['Profit'])"
   ]
  },
  {
   "cell_type": "markdown",
   "metadata": {},
   "source": [
    "# TRANSFORMANDO LOS DATOS \n",
    "La función `transformarData` convierte las columnas categóricas en códigos numéricos, lo cual es necesario para que los algoritmos de regresión lineal puedan procesar estos datos. A continuación se muestra la implementación de la función:\n"
   ]
  },
  {
   "cell_type": "code",
   "execution_count": 128,
   "metadata": {},
   "outputs": [],
   "source": [
    "def transformarData(data):\n",
    "    newColum = data.astype(\"category\")\n",
    "    newColum = newColum.cat.codes\n",
    "    return newColum"
   ]
  },
  {
   "cell_type": "code",
   "execution_count": 129,
   "metadata": {},
   "outputs": [
    {
     "name": "stdout",
     "output_type": "stream",
     "text": [
      "Category\n",
      "Brand\n",
      "Supplier\n",
      "   Price  Discount  Final_Price  Sold_Quantity  Rating  Reviews  \\\n",
      "0   2684        23      2066.68             21     1.5      427   \n",
      "1   2704        15      2298.40             62     2.6      383   \n",
      "2   3173         6      2982.62             11     3.9       50   \n",
      "3   4320        26      3196.80              9     4.5      106   \n",
      "4   2557        34      1687.62             73     2.0       72   \n",
      "\n",
      "   Purchase_Cost  0  0  0  \n",
      "0           2535  4  2  2  \n",
      "1           1180  0  3  1  \n",
      "2           2588  4  0  0  \n",
      "3            567  2  4  0  \n",
      "4           3272  2  3  2  \n",
      "Price              int64\n",
      "Discount           int64\n",
      "Final_Price      float64\n",
      "Sold_Quantity      int64\n",
      "Rating           float64\n",
      "Reviews            int64\n",
      "Purchase_Cost      int64\n",
      "0                   int8\n",
      "0                   int8\n",
      "0                   int8\n",
      "dtype: object\n",
      "5000\n"
     ]
    }
   ],
   "source": [
    "# Y = final price\n",
    "# X = all columns except final price\n",
    "data = pd.read_csv('J:/Lab01_SIS_420/Super_Shop/super_shop_dataset.csv')\n",
    "save_column = [\n",
    "    'Category', 'Brand', 'Price', 'Discount', 'Sold_Quantity', \n",
    "    'Rating', 'Reviews', 'Supplier', 'Purchase_Cost', 'Final_Price'\n",
    "]\n",
    "\n",
    "y = data['Profit'].values\n",
    "data = data.drop(columns=[col for col in data.columns if col not in save_column])\n",
    "\n",
    "\n",
    "object_data = data.select_dtypes(include=['object'])\n",
    "number_data = data.select_dtypes(include=['int64', 'float64'])\n",
    "\n",
    "for i in range(object_data.shape[1]):\n",
    "    column_name = object_data.columns[i] \n",
    "    print(column_name)\n",
    "    procesado = transformarData(object_data[column_name])\n",
    "    number_data = pd.concat([number_data, procesado], axis=1)\n",
    "\n",
    "print(number_data.head())\n",
    "print(number_data.dtypes)\n",
    "\n",
    "X = number_data.values\n",
    "m = y.size\n",
    "print(m)"
   ]
  },
  {
   "cell_type": "markdown",
   "metadata": {},
   "source": [
    "# Normalización de caracteristicas\n",
    "\n",
    "Al visualizar los datos se puede observar que las caracteristicas tienen diferentes magnitudes, por lo cual se debe transformar cada valor en una escala de valores similares, esto con el fin de que el descenso por el gradiente pueda converger mas rapidamente."
   ]
  },
  {
   "cell_type": "markdown",
   "metadata": {},
   "source": [
    "La desviación estándar es una forma de medir cuánta variación hay en el rango de valores de una característica en particular (la mayoría de los puntos caeran en un rango de ± 2 en relación a la desviaciones estándar de la media); esta es una alternativa a tomar el rango de valores (max-min). En numpy, se puede usar la función std para calcular la desviacion estandar.\n",
    "\n",
    "Por ejemplo, la caracteristicaX[:, 0] contiene todos los valores de  x1  (tamaño de las casas) en el conjunto de entrenamiento, entonces np.std(X[:, 0]) calcula la desviacion estandar de los tamaños de las casas. En el momento en que se llama a la función featureNormalize, la columna adicional de unos correspondiente a  x0=1  aún no se ha agregado a  X ."
   ]
  },
  {
   "cell_type": "markdown",
   "metadata": {},
   "source": [
    "La función `featureNormalize` se utiliza para normalizar las características de un conjunto de datos. Esto implica ajustar los valores de las características para que tengan una media de 0 y una desviación estándar de 1. Este proceso es importante para mejorar el rendimiento de los algoritmos de aprendizaje automático, ya que asegura que todas las características contribuyan de manera equitativa al modelo. La función devuelve los datos normalizados, así como los valores de la media y la desviación estándar utilizados en el proceso de normalización."
   ]
  },
  {
   "cell_type": "code",
   "execution_count": 130,
   "metadata": {},
   "outputs": [],
   "source": [
    "def  featureNormalize(X):\n",
    "\n",
    "    X_norm = X.copy()\n",
    "    mu = np.zeros(X.shape[1])\n",
    "    sigma = np.zeros(X.shape[1])\n",
    "    mu = np.mean(X, axis = 0)\n",
    "    sigma = np.std(X, axis = 0)\n",
    "    X_norm = (X - mu) / sigma\n",
    "\n",
    "    return X_norm, mu, sigma"
   ]
  },
  {
   "cell_type": "code",
   "execution_count": 131,
   "metadata": {},
   "outputs": [
    {
     "name": "stdout",
     "output_type": "stream",
     "text": [
      "[[2.68400e+03 2.30000e+01 2.06668e+03 ... 4.00000e+00 2.00000e+00\n",
      "  2.00000e+00]\n",
      " [2.70400e+03 1.50000e+01 2.29840e+03 ... 0.00000e+00 3.00000e+00\n",
      "  1.00000e+00]\n",
      " [3.17300e+03 6.00000e+00 2.98262e+03 ... 4.00000e+00 0.00000e+00\n",
      "  0.00000e+00]\n",
      " ...\n",
      " [7.60000e+01 2.50000e+01 5.70000e+01 ... 1.00000e+00 3.00000e+00\n",
      "  2.00000e+00]\n",
      " [2.21000e+03 5.00000e+00 2.09950e+03 ... 1.00000e+00 2.00000e+00\n",
      "  2.00000e+00]\n",
      " [1.96000e+03 2.00000e+00 1.92080e+03 ... 2.00000e+00 4.00000e+00\n",
      "  0.00000e+00]]\n",
      "Media calculada: [2.49650220e+03 2.41896000e+01 1.88953383e+03 4.98118000e+01\n",
      " 3.00966000e+00 2.46230800e+02 2.00957160e+03 1.96880000e+00\n",
      " 1.99460000e+00 1.01540000e+00]\n",
      "Desviación estandar calculada: [1.43663193e+03 1.42919436e+01 1.15578986e+03 2.90647343e+01\n",
      " 1.13983538e+00 1.44413402e+02 1.14658813e+03 1.42078378e+00\n",
      " 1.41314219e+00 8.25568192e-01]\n",
      "[[ 0.13051207 -0.0832357   0.15326849 ...  1.42963343  0.00382127\n",
      "   1.19263316]\n",
      " [ 0.14443352 -0.64299162  0.35375476 ... -1.38571401  0.71146415\n",
      "  -0.01865382]\n",
      " [ 0.47089153 -1.27271703  0.94574819 ...  1.42963343 -1.41146448\n",
      "  -1.2299408 ]\n",
      " ...\n",
      " [-1.68484505  0.05670327 -1.5855251  ... -0.68187715  0.71146415\n",
      "   1.19263316]\n",
      " [-0.19942631 -1.34268652  0.18166466 ... -0.68187715  0.00382127\n",
      "   1.19263316]\n",
      " [-0.37344444 -1.55259499  0.02705178 ...  0.02195971  1.41910702\n",
      "  -1.2299408 ]]\n"
     ]
    }
   ],
   "source": [
    "# llama featureNormalize con los datos cargados\n",
    "X_norm, mu, sigma = featureNormalize(X)\n",
    "\n",
    "print(X)\n",
    "print('Media calculada:', mu)\n",
    "print('Desviación estandar calculada:', sigma)\n",
    "print(X_norm)"
   ]
  },
  {
   "cell_type": "code",
   "execution_count": 132,
   "metadata": {},
   "outputs": [],
   "source": [
    "X = np.concatenate([np.ones((m, 1)), X_norm], axis=1)"
   ]
  },
  {
   "cell_type": "markdown",
   "metadata": {},
   "source": [
    "# DESCENSO POR LA GRADIENTE\n",
    "\n",
    "En el ejemplo anterior se implemento el descenso por el gradiente para un problema de regresion univariable. La unica diferencia es que ahora existe una caracteristica adicional en la matriz $X$. La función de hipótesis y la regla de actualización del descenso del gradiente por lotes permanecen sin cambios.\n",
    "\n",
    "La implementacion de las funciones `computeCostMulti` y `gradientDescentMulti` son similares a la funcion de costo y función de descenso por el gradiente de la regresión lineal multiple es similar al de la regresion lineal multivariable. Es importante garantizar que el codigo soporte cualquier numero de caracteristicas y esten bien vectorizadas.\n",
    "\n",
    "Se puede utilizar `shape`, propiedad de los arrays `numpy`, para identificar cuantas caracteristicas estan consideradas en el dataset.\n",
    "\n",
    "**Nota de implementación:** En el caso de multivariables, la función de costo puede se escrita considerando la forma vectorizada de la siguiente manera:\n",
    "\n",
    "$$ J(\\theta) = \\frac{1}{2m}(X\\theta - \\vec{y})^T(X\\theta - \\vec{y}) $$\n",
    "\n",
    "donde:\n",
    "\n",
    "$$ X = \\begin{pmatrix}\n",
    "- (x^{(1)})^T - \\\\\n",
    "- (x^{(2)})^T - \\\\\n",
    "\\vdots \\\\\n",
    "- (x^{(m)})^T - \\\\ \\\\\n",
    "\\end{pmatrix} \\qquad \\mathbf{y} = \\begin{bmatrix} y^{(1)} \\\\ y^{(2)} \\\\ \\vdots \\\\ y^{(m)} \\\\\\end{bmatrix}$$\n",
    "\n",
    "La version vectorizada es eficiente cuando se trabaja con herramientas de calculo numericos computacional como `numpy`.\n"
   ]
  },
  {
   "cell_type": "code",
   "execution_count": 133,
   "metadata": {},
   "outputs": [],
   "source": [
    "def computeCostMulti(X, y, theta):\n",
    "    # Inicializa algunos valores utiles\n",
    "    m = y.shape[0] # numero de ejemplos de entrenamiento\n",
    "\n",
    "    J = 0\n",
    "\n",
    "    # h = np.dot(X, theta)\n",
    "\n",
    "    J = (1/(2 * m)) * np.sum(np.square(np.dot(X, theta) - y))\n",
    "\n",
    "    return J"
   ]
  },
  {
   "cell_type": "code",
   "execution_count": 134,
   "metadata": {},
   "outputs": [],
   "source": [
    "def gradientDescentMulti(X, y, theta, alpha, num_iters):\n",
    "\n",
    "    # Inicializa algunos valores\n",
    "    m = y.shape[0] # numero de ejemplos de entrenamiento\n",
    "\n",
    "    # realiza una copia de theta, el cual será acutalizada por el descenso por el gradiente\n",
    "\n",
    "    theta = theta.copy()\n",
    "\n",
    "    J_history = []\n",
    "\n",
    "    for i in range(num_iters):\n",
    "        theta = theta - (alpha / m) * (np.dot(X, theta) - y).dot(X)\n",
    "        J_history.append(computeCostMulti(X, y, theta))\n",
    "\n",
    "    return theta, J_history"
   ]
  },
  {
   "cell_type": "markdown",
   "metadata": {},
   "source": [
    "# Seleccionando coheficientes de aprendizaje"
   ]
  },
  {
   "cell_type": "code",
   "execution_count": 135,
   "metadata": {},
   "outputs": [
    {
     "name": "stdout",
     "output_type": "stream",
     "text": [
      "theta calculado por el descenso por el gradiente: [-1.19999089e+02  4.83669355e+02 -1.60851509e+02  6.48473983e+02\n",
      "  5.47858737e-01 -6.76453437e-01  4.79597364e-01 -1.14604363e+03\n",
      " -1.85375155e+00 -2.86342994e-01 -1.13248978e+00]\n"
     ]
    },
    {
     "data": {
      "image/png": "[encoded data removed]",
      "text/plain": [
       "<Figure size 640x480 with 1 Axes>"
      ]
     },
     "metadata": {},
     "output_type": "display_data"
    }
   ],
   "source": [
    "# Elegir algun valor para alpha (probar varias alternativas)\n",
    "alpha = 0.01 # alpha = 0.003\n",
    "num_iters = 800\n",
    "\n",
    "# inicializa theta y ejecuta el descenso por el gradiente\n",
    "theta = np.zeros(11)\n",
    "theta, J_history = gradientDescentMulti(X, y, theta, alpha, num_iters)\n",
    "\n",
    "# Grafica la convergencia del costo\n",
    "pyplot.plot(np.arange(len(J_history)), J_history, lw=2)\n",
    "pyplot.xlabel('Numero de iteraciones')\n",
    "pyplot.ylabel('Costo J')\n",
    "\n",
    "# Muestra los resultados del descenso por el gradiente\n",
    "print('theta calculado por el descenso por el gradiente: {:s}'.format(str(theta)))\n",
    "\n",
    "# Estimar el precio para una casa de 1650 sq-ft, con 3 dormitorios\n"
   ]
  },
  {
   "cell_type": "code",
   "execution_count": 136,
   "metadata": {},
   "outputs": [
    {
     "name": "stdout",
     "output_type": "stream",
     "text": [
      "mu [2.49650220e+03 2.41896000e+01 1.88953383e+03 4.98118000e+01\n",
      " 3.00966000e+00 2.46230800e+02 2.00957160e+03 1.96880000e+00\n",
      " 1.99460000e+00 1.01540000e+00]\n",
      "sigma 10\n",
      "Ganancia: -472.3228144792221\n"
     ]
    }
   ],
   "source": [
    "X_array = [1, 2684, 23, 2066.68, 21, 1.5, 427, 2535,  4,  2,  2]\n",
    "print('mu', mu)\n",
    "print('sigma', sigma.size)\n",
    "X_array[1:11] = (X_array[1:11] - mu) / sigma\n",
    "price = np.dot(X_array, theta)   # Se debe cambiar esto\n",
    "print('Ganancia:', price)\n",
    "\n",
    "\n"
   ]
  },
  {
   "cell_type": "markdown",
   "metadata": {},
   "source": [
    "# ECUACIÓN DE LA NORMAL\n",
    "\n",
    "Una manera de calcular rapidamente el modelo de una regresion lineal es:\n",
    "\n",
    "$$ \\theta = \\left( X^T X\\right)^{-1} X^T\\vec{y}$$\n",
    "\n",
    "Utilizando esta formula no requiere que se escale ninguna caracteristica, y se obtendra una solucion exacta con un solo calculo: no hay “bucles de convergencia” como en el descenso por el gradiente.\n",
    "\n",
    "Primero se recargan los datos para garantizar que las variables no esten modificadas. Recordar que no es necesario escalar las caracteristicas, se debe agregar la columna de unos a la matriz $X$ para tener el termino de intersección($\\theta_0$). Ecuacion de la normal\n"
   ]
  },
  {
   "cell_type": "code",
   "execution_count": 137,
   "metadata": {},
   "outputs": [
    {
     "name": "stdout",
     "output_type": "stream",
     "text": [
      "Category\n",
      "Brand\n",
      "Supplier\n",
      "   Price  Discount  Final_Price  Sold_Quantity  Rating  Reviews  \\\n",
      "0   2684        23      2066.68             21     1.5      427   \n",
      "1   2704        15      2298.40             62     2.6      383   \n",
      "2   3173         6      2982.62             11     3.9       50   \n",
      "3   4320        26      3196.80              9     4.5      106   \n",
      "4   2557        34      1687.62             73     2.0       72   \n",
      "\n",
      "   Purchase_Cost  0  0  0  \n",
      "0           2535  4  2  2  \n",
      "1           1180  0  3  1  \n",
      "2           2588  4  0  0  \n",
      "3            567  2  4  0  \n",
      "4           3272  2  3  2  \n",
      "Price              int64\n",
      "Discount           int64\n",
      "Final_Price      float64\n",
      "Sold_Quantity      int64\n",
      "Rating           float64\n",
      "Reviews            int64\n",
      "Purchase_Cost      int64\n",
      "0                   int8\n",
      "0                   int8\n",
      "0                   int8\n",
      "dtype: object\n",
      "5000\n"
     ]
    }
   ],
   "source": [
    "data = pd.read_csv('J:/Lab01_SIS_420/Super_Shop/super_shop_dataset.csv')\n",
    "save_column = [\n",
    "    'Category', 'Brand', 'Price', 'Discount', 'Sold_Quantity', \n",
    "    'Rating', 'Reviews', 'Supplier', 'Purchase_Cost', 'Final_Price'\n",
    "]\n",
    "\n",
    "y = data['Profit'].values\n",
    "data = data.drop(columns=[col for col in data.columns if col not in save_column])\n",
    "\n",
    "\n",
    "object_data = data.select_dtypes(include=['object'])\n",
    "number_data = data.select_dtypes(include=['int64', 'float64'])\n",
    "\n",
    "for i in range(object_data.shape[1]):\n",
    "    column_name = object_data.columns[i] \n",
    "    print(column_name)\n",
    "    procesado = transformarData(object_data[column_name])\n",
    "    number_data = pd.concat([number_data, procesado], axis=1)\n",
    "\n",
    "print(number_data.head())\n",
    "print(number_data.dtypes)\n",
    "\n",
    "X = number_data.values\n",
    "m = y.size\n",
    "print(m)\n",
    "# [3000, 20, 2000, 20, 1.5, 400, 2000, 2, 2, 2 ]\n",
    "# Datos Conocidos\n",
    "# [2684, 23, 2066.68, 21, 1.5, 427, 2535,  4,  2,  2]"
   ]
  },
  {
   "cell_type": "code",
   "execution_count": 138,
   "metadata": {},
   "outputs": [],
   "source": [
    "def normalEqn(X, y):\n",
    "\n",
    "    theta = np.zeros(X.shape[1])\n",
    "\n",
    "    theta = np.dot(np.dot(np.linalg.inv(np.dot(X.T,X)),X.T),y)\n",
    "\n",
    "    return theta"
   ]
  },
  {
   "cell_type": "code",
   "execution_count": 139,
   "metadata": {},
   "outputs": [
    {
     "name": "stdout",
     "output_type": "stream",
     "text": [
      "Theta calculado a partir de la ecuación de la normal: [ 1.74027459e-14 -5.42232925e-13  1.00000000e+00  2.97539771e-14\n",
      " -9.14823772e-14  3.21964677e-15 -1.00000000e+00  6.43041176e-13\n",
      "  1.24344979e-14  1.08002496e-12]\n",
      "La ganancia neta es de: $-468\n",
      "Ganaste:  -468.31999999999863\n"
     ]
    }
   ],
   "source": [
    "#Calcula los parametros con la ecuación de la normal\n",
    "theta = normalEqn(X, y);\n",
    "\n",
    "\n",
    "# Muestra los resultados optenidos a partir de la aplicación de la ecuación de la normal\n",
    "print('Theta calculado a partir de la ecuación de la normal: {:s}'.format(str(theta)));\n",
    "\n",
    "# Estimar el precio para una casa de superficie de 1650 sq-ft y tres dormitorios\n",
    "\n",
    "# X_array = [3000, 20, 2000, 20, 1.5, 400, 2000, 2, 2, 2 ]\n",
    "X_array = [2684, 23, 2066.68, 21, 1.5, 427, 2535,  4,  2,  2]\n",
    "price = np.dot(X_array, theta)\n",
    "\n",
    "print('La ganancia neta es de: ${:.0f}'.format(price))\n",
    "print('Ganaste: ', price)"
   ]
  }
 ],
 "metadata": {
  "kernelspec": {
   "display_name": "mi_entorno",
   "language": "python",
   "name": "python3"
  },
  "language_info": {
   "codemirror_mode": {
    "name": "ipython",
    "version": 3
   },
   "file_extension": ".py",
   "mimetype": "text/x-python",
   "name": "python",
   "nbconvert_exporter": "python",
   "pygments_lexer": "ipython3",
   "version": "3.13.2"
  }
 },
 "nbformat": 4,
 "nbformat_minor": 2
}
